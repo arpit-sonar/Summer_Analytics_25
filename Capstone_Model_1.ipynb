{
  "nbformat": 4,
  "nbformat_minor": 0,
  "metadata": {
    "colab": {
      "provenance": []
    },
    "kernelspec": {
      "name": "python3",
      "display_name": "Python 3"
    },
    "language_info": {
      "name": "python"
    }
  },
  "cells": [
    {
      "cell_type": "markdown",
      "source": [
        "# MODEL 1 :  Baseline Linear Model"
      ],
      "metadata": {
        "id": "bp4xtuKPn3Au"
      }
    },
    {
      "cell_type": "markdown",
      "source": [
        "## Preprocessing Of Dataset"
      ],
      "metadata": {
        "id": "6i1AJ0oPoADR"
      }
    },
    {
      "cell_type": "markdown",
      "source": [
        "### Importing the Libraries"
      ],
      "metadata": {
        "id": "KIyT5udQhaEC"
      }
    },
    {
      "cell_type": "code",
      "execution_count": 15,
      "metadata": {
        "id": "SRfIGpUAxOsa"
      },
      "outputs": [],
      "source": [
        "!pip install pathway bokeh  --quiet"
      ]
    },
    {
      "cell_type": "code",
      "source": [
        "import pandas as pd\n",
        "import pathway as pw\n",
        "import numpy as np\n",
        "import bokeh.plotting\n",
        "import bokeh.model\n",
        "import panel as pn\n",
        "import datetime\n",
        "from datetime import datetime"
      ],
      "metadata": {
        "id": "bML5ETeKxTc2"
      },
      "execution_count": null,
      "outputs": []
    },
    {
      "cell_type": "code",
      "source": [
        "# Reading the File via Pandas as the Dataframe\n",
        "df = pd.read_csv('/content/dataset.csv')\n",
        "\n",
        "#Dropping the Columns which does not need now\n",
        "df = df.drop(columns=['ID','Latitude','Longitude'])\n",
        "\n",
        "# Observed that some of the rows has Occupancy more than the Capacity , which is impossible\n",
        "# Removed that rows to get correct pricing\n",
        "df =df[~(df['Capacity']<df['Occupancy'])]\n"
      ],
      "metadata": {
        "id": "5DHBn5oMxY34"
      },
      "execution_count": 17,
      "outputs": []
    },
    {
      "cell_type": "markdown",
      "source": [
        "* Major Assumption :     \n",
        "1. Dataset is not clear whether the Occupancy is only by the vehicle Type mentioned , So I Assumed that Vehicle Type is for All the Occupancies for each row\n",
        "2. Since the Dynamic Price must be for the any Specific Time Interval and that would make for the Profit Strategy . So Implemented the Time Basis Dynamic pricing model instead of the PerDay Basis.\n",
        "3. Since the Longitude , Latitude and SystemCodeNumber is Unique for Each Lots , I Didn't Consider the Location to be the Factor.\n"
      ],
      "metadata": {
        "id": "0j74U1YVtVS9"
      }
    },
    {
      "cell_type": "markdown",
      "source": [
        "### Feature Engineering\n"
      ],
      "metadata": {
        "id": "3YQzwhgTiE7q"
      }
    },
    {
      "cell_type": "code",
      "source": [
        "# Creating the New TimeStamp Columns and Making it a Datetime Object\n",
        "df['Timestamp'] = pd.to_datetime(df['LastUpdatedDate'] + ' ' + df['LastUpdatedTime'],\n",
        "                                  format='%d-%m-%Y %H:%M:%S')\n",
        "\n",
        "#NO need of the Individual Date and Time Columns Now , so Removed .\n",
        "df.drop(columns=['LastUpdatedDate','LastUpdatedTime'],inplace=True)\n",
        "\n",
        "# Checking if the Dataset had null values\n",
        "df.isnull().sum()"
      ],
      "metadata": {
        "collapsed": true,
        "id": "RGvk3a4dxb3F"
      },
      "execution_count": null,
      "outputs": []
    },
    {
      "cell_type": "code",
      "source": [
        "df['VehicleType'].unique()"
      ],
      "metadata": {
        "collapsed": true,
        "id": "cJhLMCAczOG-"
      },
      "execution_count": null,
      "outputs": []
    },
    {
      "cell_type": "markdown",
      "source": [
        "* Creating a new Columns to plot the Special Day Rows"
      ],
      "metadata": {
        "id": "KZ2OKJVwimXW"
      }
    },
    {
      "cell_type": "code",
      "source": [
        "def specialDay(day):\n",
        "  if day == 1:\n",
        "    return 'orange'\n",
        "  else:\n",
        "    return 'yellow'\n",
        "df['color'] = df['IsSpecialDay'].apply(specialDay)"
      ],
      "metadata": {
        "id": "7IDTZJVb_8KM"
      },
      "execution_count": 20,
      "outputs": []
    },
    {
      "cell_type": "markdown",
      "source": [
        "* Converting the Dataset into 14 different files for Different Lots (for easy distribution)"
      ],
      "metadata": {
        "id": "2y1RuqLCi4Xv"
      }
    },
    {
      "cell_type": "code",
      "source": [
        "for i, (_, group_df) in enumerate(df.groupby('SystemCodeNumber'), start=1):\n",
        "    filename = f\"parking_lot_{i}.csv\"\n",
        "    group_df.to_csv(filename, index=False)"
      ],
      "metadata": {
        "id": "wvnKvYIMxdce"
      },
      "execution_count": 21,
      "outputs": []
    },
    {
      "cell_type": "markdown",
      "source": [
        "## Making of Pipeline"
      ],
      "metadata": {
        "id": "PQpBXpxaoQgk"
      }
    },
    {
      "cell_type": "markdown",
      "source": [
        "### Making the Schema to parse the Files"
      ],
      "metadata": {
        "id": "UHb5_Qm3jO2C"
      }
    },
    {
      "cell_type": "code",
      "source": [
        "class InputSchema(pw.Schema):\n",
        "  SystemCodeNumber:str\n",
        "  Capacity : int\n",
        "  Occupancy : int\n",
        "  VehicleType : str\n",
        "  TrafficConditionNearby : str\n",
        "  QueueLength  : int\n",
        "  IsSpecialDay : int\n",
        "  Timestamp :  str\n",
        "  color : str"
      ],
      "metadata": {
        "id": "XuKw2G6HxdY4"
      },
      "execution_count": 22,
      "outputs": []
    },
    {
      "cell_type": "code",
      "source": [
        "tables = {}\n",
        "for i in range(1, 15):\n",
        "    filename = f\"/content/parking_lot_{i}.csv\"\n",
        "    table_name = f\"t{i}\"\n",
        "\n",
        "    # Reading all 14 files and saving them as the Streaming Data\n",
        "    tables[table_name] = pw.demo.replay_csv(\n",
        "        f\"{filename}\",\n",
        "        schema=InputSchema,\n",
        "        input_rate=1000\n",
        "\n",
        "    )"
      ],
      "metadata": {
        "id": "BKA69ub2xdXK"
      },
      "execution_count": 23,
      "outputs": []
    },
    {
      "cell_type": "markdown",
      "source": [
        "* Parsing the TimeStamp Columns to Datetime Object"
      ],
      "metadata": {
        "id": "190ciKVnjnha"
      }
    },
    {
      "cell_type": "code",
      "source": [
        "fmt = \"%Y-%m-%d %H:%M:%S\" # format of TimeStamp Columns\n",
        "for i in range(1,15):\n",
        "  tables[f't{i}'] = tables[f't{i}'].with_columns(\n",
        "   TimeStamp = tables[f't{i}'].Timestamp.dt.strptime(fmt)\n",
        "  )\n",
        "for i in range(1,15):\n",
        "  tables[f't{i}'] = tables[f't{i}'].with_columns(\n",
        "    # Make the new Columns from TimeStamp and convert it to String\n",
        "    day = tables[f't{i}'].Timestamp.dt.strptime(fmt).dt.strftime(\"%Y-%m-%dT00:00:00\"))"
      ],
      "metadata": {
        "id": "pnyqdzrwxdVn"
      },
      "execution_count": 24,
      "outputs": []
    },
    {
      "cell_type": "markdown",
      "source": [
        "## Model Creation\n",
        "\n",
        "\n",
        "\n",
        "\n"
      ],
      "metadata": {
        "id": "lkPXP3k509U4"
      }
    },
    {
      "cell_type": "markdown",
      "source": [
        "* **Making the linear Formula** :    \n",
        "  *price = min Price + alpha * Utilisation*\n",
        "\n",
        "  such that\n",
        "\n",
        "  1.**Minimum Price** :\n",
        "\n",
        "  10 * 0.5\n",
        "\n",
        "  2.**Utilisation** :\n",
        "  \n",
        "  Current Occupancy / Maximum Capacity of Lot\n",
        "\n",
        "  3.**Alpha** :\n",
        "  \n",
        "  Maximum Price - Base Price\n",
        "  \n",
        "  to maintain the Price between Min and Max Price allowed\n"
      ],
      "metadata": {
        "id": "2X59ALW0mM6R"
      }
    },
    {
      "cell_type": "markdown",
      "source": [
        "### Windowing the Table"
      ],
      "metadata": {
        "id": "xYNMgkICkQTg"
      }
    },
    {
      "cell_type": "markdown",
      "source": [
        "* Windowing the Datasets by 30 Minutes Duration and Aggregate by windowby().reduce() Method\n"
      ],
      "metadata": {
        "id": "pfwBN4OMl6v3"
      }
    },
    {
      "cell_type": "code",
      "source": [
        "from datetime import timedelta\n",
        "base_price = 10  # given\n",
        "min_price = 5   # 10 * 0.5\n",
        "max_price = 20  # 10 * 2.0\n",
        "\n",
        "windowed_table = {}\n",
        "for i in range(1,15):\n",
        "  table_name = f't{i}'\n",
        "  windowed_table[table_name] = (\n",
        "      tables[f't{i}'].windowby(\n",
        "          pw.this.TimeStamp,  # Event time column to use for windowing (parsed datetime)\n",
        "          instance=pw.this.day,  # Logical partitioning key: one instance per calendar day\n",
        "          window= pw.temporal.tumbling(duration =timedelta(minutes=30)),  # Fixed-size daily window\n",
        "          behavior=pw.temporal.exactly_once_behavior()  # Guarantees exactly-once processing semantics\n",
        "      )\n",
        "      .reduce(\n",
        "          time_start = pw.this._pw_window_start,\n",
        "          time_end = pw.this._pw_window_end,\n",
        "          occ_max = pw.reducers.max(pw.this.Occupancy),\n",
        "          cap = pw.reducers.max(pw.this.Capacity),\n",
        "          color = pw.reducers.earliest(pw.this.color)\n",
        "      )\n",
        "      .with_columns(\n",
        "          # Creating the Linear Formula to Increment or Decrement the Price from Base Price\n",
        "          price=min_price + (pw.this.occ_max / pw.this.cap) * (max_price - base_price)\n",
        "      )\n",
        "  )\n"
      ],
      "metadata": {
        "id": "QcTcazrBxdT5"
      },
      "execution_count": null,
      "outputs": []
    },
    {
      "cell_type": "markdown",
      "source": [
        "## Creating the Interactive Dashboard"
      ],
      "metadata": {
        "id": "O4qh4WE5kra_"
      }
    },
    {
      "cell_type": "markdown",
      "source": [
        "* Making the Dashboard of Different Tabs using the Bokeh and Panel Libraries"
      ],
      "metadata": {
        "id": "n1DLmQEdl1js"
      }
    },
    {
      "cell_type": "code",
      "source": [
        "import panel as pn\n",
        "# Enabling Panel's widgets and layout feature\n",
        "pn.extension()\n",
        "\n",
        "# Making the custom Price Plotting Function\n",
        "def price_plotter(source):\n",
        "    fig = bokeh.plotting.figure(\n",
        "        height=400,\n",
        "        width=800,\n",
        "        title=\" Dynamic Parking Lot Price\",\n",
        "        tools = 'hover,pan,zoom_in,zoom_out,wheel_zoom,save,reset',   # Manually setting the tools required\n",
        "        x_axis_type=\"datetime\" )\n",
        "    fig.line(\"time_end\", \"price\", source=source, line_width=2, color=\"navy\")  #Creating a LinePlot\n",
        "    fig.circle(\"time_end\", \"price\", source=source, size=6, color=\"color\")   # Creating a ScatterPlot\n",
        "    return fig\n",
        "\n",
        "\n",
        "#creating the figures of different parking lot\n",
        "figures = {}\n",
        "for i in range(1,15):\n",
        "  figures[f'fig{i}']= windowed_table[f't{i}'].plot(price_plotter, sorting_col=\"time_end\")"
      ],
      "metadata": {
        "collapsed": true,
        "id": "1jQmBQ6nxdQr"
      },
      "execution_count": null,
      "outputs": []
    },
    {
      "cell_type": "code",
      "source": [
        "# Making the Dashboard with multiple tabs for different Parking Lot\n",
        "tabs = pn.Tabs(\n",
        "    *[(f\"Lot {i}\", figures[f\"fig{i}\"]) for i in range(1, 15)]\n",
        ")\n",
        "\n",
        "tabs.servable()"
      ],
      "metadata": {
        "id": "7U_FeKEwxdNj"
      },
      "execution_count": null,
      "outputs": []
    },
    {
      "cell_type": "markdown",
      "source": [
        "## Creating the DataFlow using Pathway"
      ],
      "metadata": {
        "id": "ou1zCxrJlgQn"
      }
    },
    {
      "cell_type": "code",
      "source": [
        "# Running the Pipeline\n",
        "pw.run()"
      ],
      "metadata": {
        "collapsed": true,
        "id": "_cDi7whZxdMK"
      },
      "execution_count": null,
      "outputs": []
    }
  ]
}
