{
  "nbformat": 4,
  "nbformat_minor": 0,
  "metadata": {
    "colab": {
      "provenance": [],
      "toc_visible": true
    },
    "kernelspec": {
      "name": "python3",
      "display_name": "Python 3"
    },
    "language_info": {
      "name": "python"
    }
  },
  "cells": [
    {
      "cell_type": "markdown",
      "source": [
        "# ***MODEL 2*** : Demand Based Dynamic Pricing Model\n",
        "\n",
        "\n",
        "\n"
      ],
      "metadata": {
        "id": "lLpLOTp3xKlZ"
      }
    },
    {
      "cell_type": "markdown",
      "source": [
        "## Preprocessing Of the Dataset"
      ],
      "metadata": {
        "id": "DedvLamFgr_q"
      }
    },
    {
      "cell_type": "markdown",
      "source": [
        "### **Importing the Libraries**:\n",
        "\n",
        "\n"
      ],
      "metadata": {
        "id": "RMGw50OtwsoD"
      }
    },
    {
      "cell_type": "code",
      "execution_count": 25,
      "metadata": {
        "id": "C2KaCdPEMADz",
        "collapsed": true
      },
      "outputs": [],
      "source": [
        "!pip install pathway bokeh  --quiet"
      ]
    },
    {
      "cell_type": "code",
      "source": [
        "import pandas as pd\n",
        "import pathway as pw\n",
        "import numpy as np\n",
        "import bokeh.plotting\n",
        "import bokeh.model\n",
        "import panel as pn\n",
        "import datetime\n",
        "from datetime import datetime"
      ],
      "metadata": {
        "id": "fBgIElCiMqFC"
      },
      "execution_count": 26,
      "outputs": []
    },
    {
      "cell_type": "markdown",
      "source": [
        "### Feature Engineering :  "
      ],
      "metadata": {
        "id": "Wje06QLgyWVx"
      }
    },
    {
      "cell_type": "code",
      "source": [
        "def traffic_level(traffic):   # Converting the Categorical Columns to Numerically Contribute for Demand\n",
        "  if traffic == 'low':\n",
        "    return 3.0\n",
        "  elif traffic == 'avg':\n",
        "    return 6.0\n",
        "  else:\n",
        "    return 9.0\n",
        "\n",
        "def vehicle_type_weight(type):  #Making Weightage of Each Vehicle\n",
        "  if type == 'cycle':\n",
        "    return 0.65\n",
        "  elif type == 'bike':\n",
        "    return .85\n",
        "  elif type == 'car':\n",
        "    return 1.15\n",
        "  else:\n",
        "    return 1.35\n"
      ],
      "metadata": {
        "id": "Qk1zf1p3Q6UC"
      },
      "execution_count": 27,
      "outputs": []
    },
    {
      "cell_type": "markdown",
      "source": [
        "## Pipeline Creation"
      ],
      "metadata": {
        "id": "kke6_oUNga6q"
      }
    },
    {
      "cell_type": "code",
      "source": [
        "#Opening the CSV files , Add the Required Features , and Saved that files\n",
        "files ={}\n",
        "for i in range(1,15):\n",
        "\n",
        " file = f'f{i}'\n",
        " files[file] = pd.read_csv(f\"/content/parking_lot_{i}.csv\")  # reading the Files( These are the Files that was made with Model 1 Notebook)\n",
        " files[file]['vehicle_type_weight'] = files[file]['VehicleType'].apply(vehicle_type_weight)   # Making the Features\n",
        " files[file]['traffic_level'] = files[file]['TrafficConditionNearby'].apply(traffic_level)\n",
        " files[file].to_csv(f\"/content/parking_lot_{i}.csv\", index=False)  # Saving the Files Again\n",
        "\n"
      ],
      "metadata": {
        "id": "KEQZRuwYj3po"
      },
      "execution_count": 28,
      "outputs": []
    },
    {
      "cell_type": "markdown",
      "source": [
        "### Schema to Parse different CSV:"
      ],
      "metadata": {
        "id": "rM5-DtMmz5s7"
      }
    },
    {
      "cell_type": "code",
      "source": [
        "class InputSchema(pw.Schema):\n",
        "  SystemCodeNumber:str\n",
        "  Capacity : int\n",
        "  Occupancy : int\n",
        "  VehicleType : str\n",
        "  TrafficConditionNearby : str\n",
        "  QueueLength  : int\n",
        "  IsSpecialDay : int\n",
        "  Timestamp :  str   # Currently parsed it as 'str' , afterward I would parsed it to Datetime\n",
        "  color : str  # Optional Feature to show the Special Day in Plot for better Visualisation\n",
        "  vehicle_type_weight : float\n",
        "  traffic_level : float"
      ],
      "metadata": {
        "id": "mIgbcPqgOK6W"
      },
      "execution_count": 29,
      "outputs": []
    },
    {
      "cell_type": "markdown",
      "source": [
        "* Reading the 14 CSV files as the Streaming Data :"
      ],
      "metadata": {
        "id": "pdJNuaObz9Hw"
      }
    },
    {
      "cell_type": "code",
      "source": [
        "tables = {}\n",
        "for i in range(1, 15):\n",
        "    filename = f\"/content/parking_lot_{i}.csv\"\n",
        "    table_name = f\"t{i}\"\n",
        "    tables[table_name] = pw.demo.replay_csv(     # Making a dictionary as tables in which 14 parking lots are streamed as values\n",
        "        f\"{filename}\",\n",
        "        schema=InputSchema,\n",
        "        input_rate=1000   # 1000 rows read per second (decent speed)\n",
        "    )"
      ],
      "metadata": {
        "id": "FyKFGrpTMqBm"
      },
      "execution_count": 30,
      "outputs": []
    },
    {
      "cell_type": "markdown",
      "source": [
        "* Parsing the Date & Time using DateTimeNaive(dt)"
      ],
      "metadata": {
        "id": "oFVmx9OR0YMj"
      }
    },
    {
      "cell_type": "code",
      "source": [
        "fmt = \"%Y-%m-%d %H:%M:%S\"  # format of current Timestamp Column\n",
        "for i in range(1,15):\n",
        "  tables[f't{i}'] = tables[f't{i}'].with_columns(\n",
        "   TimeStamp = tables[f't{i}'].Timestamp.dt.strptime(fmt)   #parsed to Datetime\n",
        "  )\n",
        "for i in range(1,15):\n",
        "  tables[f't{i}'] = tables[f't{i}'].with_columns(\n",
        "    day = tables[f't{i}'].Timestamp.dt.strptime(fmt).dt.strftime(\"%Y-%m-%dT00:00:00\")  #made a new feature as the Single Day\n",
        "  )"
      ],
      "metadata": {
        "id": "uOSZAqQgMp-9"
      },
      "execution_count": 31,
      "outputs": []
    },
    {
      "cell_type": "markdown",
      "source": [
        "## Model Creation"
      ],
      "metadata": {
        "id": "Ykk2entcOSu-"
      }
    },
    {
      "cell_type": "markdown",
      "source": [
        "### ***Using the Demand Formula*** :  \n",
        "Demand of the Parking lot depend on various Factor such as follow:\n",
        "1. **Length of Queue**:\n",
        "\n",
        "  Longer the Queue , Higher is the Demand  \n",
        "2. **Traffic In the Neighbourhood**:\n",
        "\n",
        "   More is the Traffic in Neighbour , Less is the ability for Cars to come , Less is the Demand\n",
        "3. **Type of Vehicle that want to park**:\n",
        "\n",
        "   Larger the Vehicle , More is the Ability of Driver to Pay\n",
        "4. **Utilisation Ratio** : Occupancy / Capacity\n",
        "\n",
        "   Higher the Ratio , More is the Demand\n",
        "5. **Is Day a Holiday / Special Day or a Normal Day:**\n",
        "\n",
        "   If the Day is special , Demand will be higher Before the Day and on the Day ."
      ],
      "metadata": {
        "id": "dLplp8HN0vnk"
      }
    },
    {
      "cell_type": "markdown",
      "source": [
        "* *alpha , beta , gamma, delta, epsilon  are the Coefficient that manages how the demand changes with each of the* *Factors* :"
      ],
      "metadata": {
        "id": "CdRNOf0w4i_C"
      }
    },
    {
      "cell_type": "markdown",
      "source": [
        "* *lambda_ is coefficient that manages the normalisation of demand between the range of Max_demand and Min_demand*"
      ],
      "metadata": {
        "id": "gq1TPh3z42O5"
      }
    },
    {
      "cell_type": "code",
      "source": [
        "base_price = 10 # given\n",
        "# carefully manually tuned to get plot with minimum fluctuation\n",
        "alpha = 1.5\n",
        "beta = 0.8\n",
        "gamma = 0.5\n",
        "delta = 1.5\n",
        "epsilon = 1.2\n",
        "lambda_ = 0.9\n",
        "min_demand = 0   # Minimum demand is obv 0\n",
        "max_demand = 10  # Maximum demand ,let's say 10"
      ],
      "metadata": {
        "id": "UunXNALLP3GZ"
      },
      "execution_count": 32,
      "outputs": []
    },
    {
      "cell_type": "markdown",
      "source": [
        "* *Confirming if all the Columns are Parsed Correctly , and None of it has 'typing.Any' Datatype*"
      ],
      "metadata": {
        "id": "ikLG-1u75cMj"
      }
    },
    {
      "cell_type": "code",
      "source": [
        "tables['t1'].typehints()"
      ],
      "metadata": {
        "collapsed": true,
        "id": "DR1xxRZCerr5"
      },
      "execution_count": null,
      "outputs": []
    },
    {
      "cell_type": "markdown",
      "source": [
        "### Windowing the Dataset"
      ],
      "metadata": {
        "id": "HurwQvewgMcf"
      }
    },
    {
      "cell_type": "markdown",
      "source": [
        "* Windowing the Datasets by 30 Minutes Duration and Aggregate by windowby().reduce() Method"
      ],
      "metadata": {
        "id": "1YfROMjC5rRJ"
      }
    },
    {
      "cell_type": "code",
      "source": [
        "from datetime import timedelta   # to assign the duration of window with timedelta\n",
        "\n",
        "\n",
        "windowed_table = {}  # Made the dictionary and making the changes\n",
        "for i in range(1,15):\n",
        "  table_name = f't{i}'\n",
        "  windowed_table[table_name] = (\n",
        "      tables[f't{i}'].windowby(\n",
        "          pw.this.TimeStamp,   #use this columns to divide window\n",
        "          instance=pw.this.day, #use this a Partioning key\n",
        "          window= pw.temporal.tumbling(duration =timedelta(minutes=30)), #Made the tumbling window of 30 minutes\n",
        "          behavior=pw.temporal.exactly_once_behavior()   # so that each row is computed exactly once\n",
        "      )\n",
        "      .reduce(\n",
        "          time_start = pw.this._pw_window_start,   # made this columns for debugging\n",
        "          time_end=pw.this._pw_window_end,         # act as the timestamp for plotting\n",
        "          occ_max=pw.reducers.max(pw.this.Occupancy),  # selecting max occupancy in window\n",
        "          cap=pw.reducers.max(pw.this.Capacity),  # selecting max capacity in window\n",
        "          color = pw.reducers.earliest(pw.this.color), # used this features for Special Day plotting\n",
        "          traffic_level = pw.reducers.earliest(pw.this.traffic_level), # selecting the first traffic_level\n",
        "          vehicle_type_weight = pw.reducers.earliest(pw.this.vehicle_type_weight),#selecting first vehicle weight\n",
        "          IsSpecialDay = pw.reducers.earliest(pw.this.IsSpecialDay),  # used for computing demand\n",
        "          queue_length = pw.reducers.earliest(pw.this.QueueLength), # used for computing demand\n",
        "      ).with_columns(\n",
        "        demand =  (   # Calculating the Demand Function\n",
        "          alpha * (pw.this.occ_max/pw.this.cap) +\n",
        "          beta * pw.this.queue_length -\n",
        "          gamma * pw.this.traffic_level +\n",
        "          delta * pw.this.IsSpecialDay +\n",
        "          epsilon * pw.this.vehicle_type_weight\n",
        "       )\n",
        "      )\n",
        "      .with_columns(  # Normalizing demand as to in the range (0,10)\n",
        "          normalized_demand = ((pw.this.demand - min_demand) / (max_demand - min_demand))\n",
        "      )\n",
        "      .with_columns( #calculating Price\n",
        "          temp_price = (base_price * (1 + (lambda_ * pw.this.normalized_demand)))\n",
        "      )\n",
        "      .with_columns( #Normalizing Price as to in the range(5,20)\n",
        "          price = pw.if_else(\n",
        "            pw.this.temp_price < base_price * 0.5,\n",
        "            base_price * 0.5,\n",
        "            pw.if_else(\n",
        "              pw.this.temp_price > base_price * 2,\n",
        "              base_price * 2,\n",
        "              pw.this.temp_price\n",
        "            )\n",
        "         )\n",
        "      )\n",
        "  )\n",
        ""
      ],
      "metadata": {
        "id": "4Ca-cGn-Mp7l",
        "collapsed": true
      },
      "execution_count": null,
      "outputs": []
    },
    {
      "cell_type": "markdown",
      "source": [
        "## Creating the Interactive Dashboard"
      ],
      "metadata": {
        "id": "4SUZ3fyGgQOJ"
      }
    },
    {
      "cell_type": "markdown",
      "source": [
        "* Making the Dashboard of Different Tabs using the Bokeh and Panel Libraries"
      ],
      "metadata": {
        "id": "nGdMYy0958uJ"
      }
    },
    {
      "cell_type": "code",
      "source": [
        "import panel as pn\n",
        "pn.extension()   #Enabling Panel's widgets and layout features\n",
        "def price_plotter(source):  #defining the Price Plotter function\n",
        "    fig = bokeh.plotting.figure(  #creating a fig by bokeh\n",
        "        height=400,\n",
        "        width=800,\n",
        "        title=\" Dynamic Parking Lot Price\",\n",
        "        tools = 'hover,pan,zoom_in,zoom_out,wheel_zoom,save,reset',  #manually setting the tools required\n",
        "        x_axis_label  = 'Time',\n",
        "        y_axis_label = 'Price in Dollar',\n",
        "        x_axis_type=\"datetime\" )\n",
        "    fig.line(\"time_end\", \"price\", source=source, line_width=2, color=\"navy\")\n",
        "    fig.circle(\"time_end\", \"price\", source=source, size=6, color=\"color\")\n",
        "    return fig\n",
        "figures = {}\n",
        "for i in range(1,15):\n",
        "  figures[f'fig{i}']= windowed_table[f't{i}'].plot(price_plotter, sorting_col=\"time_end\")  #creating the figures of different parking lot"
      ],
      "metadata": {
        "id": "ckCf6zKUMpzm",
        "collapsed": true
      },
      "execution_count": null,
      "outputs": []
    },
    {
      "cell_type": "code",
      "source": [
        "tabs = pn.Tabs( # Making the Dashboard with multiple tabs for different Parking Lot\n",
        "    *[(f\"Lot {i}\", figures[f\"fig{i}\"]) for i in range(1, 15)]\n",
        ")\n",
        "tabs.servable()"
      ],
      "metadata": {
        "id": "HXvV2MZvMpyH",
        "collapsed": true
      },
      "execution_count": null,
      "outputs": []
    },
    {
      "cell_type": "markdown",
      "source": [
        "## Creating the DataFlow Using Pathway"
      ],
      "metadata": {
        "id": "XWo3KwovhG_B"
      }
    },
    {
      "cell_type": "code",
      "source": [
        "pw.run()   # Starting the Pipeline"
      ],
      "metadata": {
        "id": "B3CqRYhuMpwR",
        "collapsed": true
      },
      "execution_count": null,
      "outputs": []
    }
  ]
}